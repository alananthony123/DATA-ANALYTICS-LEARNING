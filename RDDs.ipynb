{
 "cells": [
  {
   "cell_type": "markdown",
   "metadata": {},
   "source": [
    "# Exercise 1 - RDDs\n",
    "\n",
    "### Apache Spark readMe\n"
   ]
  },
  {
   "cell_type": "code",
   "execution_count": 1,
   "metadata": {},
   "outputs": [],
   "source": [
    "from pyspark import SparkContext, SparkConf\n",
    "\n",
    "conf = SparkConf().setAppName(\"SparkRDDs\").setMaster('local[4]')\n",
    "sc = SparkContext(conf = conf)"
   ]
  },
  {
   "cell_type": "code",
   "execution_count": 2,
   "metadata": {},
   "outputs": [],
   "source": [
    "#Use the README file from the PySpark Introduction\n",
    "readme = sc.textFile(\"resources/datasets/README.md\")"
   ]
  },
  {
   "cell_type": "markdown",
   "metadata": {},
   "source": [
    "### 1. Output the following content of the file\n",
    "**1.a** the whole text\n",
    "\n",
    "**1.b** the first line\n",
    "\n",
    "**1.c** the first six lines\n",
    "\n",
    "**1.d** five random lines\n",
    "\n",
    "**1.e** the number of lines contained in the file"
   ]
  },
  {
   "cell_type": "code",
   "execution_count": 5,
   "metadata": {},
   "outputs": [
    {
     "name": "stdout",
     "output_type": "stream",
     "text": [
      "# Apache Spark\n",
      "\n",
      "Spark is a fast and general cluster computing system for Big Data. It provides\n",
      "high-level APIs in Scala, Java, Python, and R, and an optimized engine that\n",
      "supports general computation graphs for data analysis. It also supports a\n",
      "rich set of higher-level tools including Spark SQL for SQL and DataFrames,\n",
      "MLlib for machine learning, GraphX for graph processing,\n",
      "and Spark Streaming for stream processing.\n",
      "\n",
      "<http://spark.apache.org/>\n",
      "\n",
      "\n",
      "## Online Documentation\n",
      "\n",
      "You can find the latest Spark documentation, including a programming\n",
      "guide, on the [project web page](http://spark.apache.org/documentation.html).\n",
      "This README file only contains basic setup instructions.\n",
      "\n",
      "## Building Spark\n",
      "\n",
      "Spark is built using [Apache Maven](http://maven.apache.org/).\n",
      "To build Spark and its example programs, run:\n",
      "\n",
      "    build/mvn -DskipTests clean package\n",
      "\n",
      "(You do not need to do this if you downloaded a pre-built package.)\n",
      "\n",
      "More detailed documentation is available from the project site, at\n",
      "[\"Building Spark\"](http://spark.apache.org/docs/latest/building-spark.html).\n",
      "\n",
      "For general development tips, including info on developing Spark using an IDE, see [\"Useful Developer Tools\"](http://spark.apache.org/developer-tools.html).\n",
      "\n",
      "## Interactive Scala Shell\n",
      "\n",
      "The easiest way to start using Spark is through the Scala shell:\n",
      "\n",
      "    ./bin/spark-shell\n",
      "\n",
      "Try the following command, which should return 1000:\n",
      "\n",
      "    scala> sc.parallelize(1 to 1000).count()\n",
      "\n",
      "## Interactive Python Shell\n",
      "\n",
      "Alternatively, if you prefer Python, you can use the Python shell:\n",
      "\n",
      "    ./bin/pyspark\n",
      "\n",
      "And run the following command, which should also return 1000:\n",
      "\n",
      "    >>> sc.parallelize(range(1000)).count()\n",
      "\n",
      "## Example Programs\n",
      "\n",
      "Spark also comes with several sample programs in the `examples` directory.\n",
      "To run one of them, use `./bin/run-example <class> [params]`. For example:\n",
      "\n",
      "    ./bin/run-example SparkPi\n",
      "\n",
      "will run the Pi example locally.\n",
      "\n",
      "You can set the MASTER environment variable when running examples to submit\n",
      "examples to a cluster. This can be a mesos:// or spark:// URL,\n",
      "\"yarn\" to run on YARN, and \"local\" to run\n",
      "locally with one thread, or \"local[N]\" to run locally with N threads. You\n",
      "can also use an abbreviated class name if the class is in the `examples`\n",
      "package. For instance:\n",
      "\n",
      "    MASTER=spark://host:7077 ./bin/run-example SparkPi\n",
      "\n",
      "Many of the example programs print usage help if no params are given.\n",
      "\n",
      "## Running Tests\n",
      "\n",
      "Testing first requires [building Spark](#building-spark). Once Spark is built, Spark tests\n",
      "can be run using:\n",
      "\n",
      "    ./dev/run-tests\n",
      "\n",
      "Please see the guidance on how to\n",
      "[run tests for a module, or individual tests](http://spark.apache.org/developer-tools.html#individual-tests).\n",
      "\n",
      "There is also a Kubernetes integration test, see resource-managers/kubernetes/integration-tests/README.md\n",
      "\n",
      "## A Note About Hadoop Versions\n",
      "\n",
      "Spark uses the Hadoop core SPark library to talk to Spark HDFS and other Hadoop-supported\n",
      "storage systems. Because the protocols have changed in different versions of\n",
      "Hadoop, you must build Spark against the same version that your cluster runs.\n",
      "\n",
      "Please refer to the build documentation at\n",
      "[\"Specifying the Hadoop Version and Enabling YARN\"](http://spark.apache.org/docs/latest/building-spark.html#specifying-the-hadoop-version-and-enabling-yarn)\n",
      "for detailed guidance on building for a particular distribution of Hadoop, including\n",
      "building for particular Hive and Hive Thriftserver distributions.\n",
      "\n",
      "## Configuration\n",
      "\n",
      "Please refer to the [Configuration Guide](http://spark.apache.org/docs/latest/configuration.html)\n",
      "in the online documentation for an overview on how to configure Spark.\n",
      "\n",
      "## Contributing\n",
      "\n",
      "Please review the Spark [Contribution to Spark guide](http://spark.apache.org/contributing.html)\n",
      "for information on how to get started contributing to the project.\n"
     ]
    }
   ],
   "source": [
    "#1a\n",
    "wholeText = readme.collect()\n",
    "for line in wholeText:\n",
    "    print(line)"
   ]
  },
  {
   "cell_type": "code",
   "execution_count": 6,
   "metadata": {},
   "outputs": [
    {
     "name": "stdout",
     "output_type": "stream",
     "text": [
      "# Apache Spark\n"
     ]
    }
   ],
   "source": [
    "#1b\n",
    "first_line = readme.first()\n",
    "print(first_line)\n"
   ]
  },
  {
   "cell_type": "code",
   "execution_count": 7,
   "metadata": {},
   "outputs": [
    {
     "name": "stdout",
     "output_type": "stream",
     "text": [
      "# Apache Spark\n",
      "\n",
      "Spark is a fast and general cluster computing system for Big Data. It provides\n",
      "high-level APIs in Scala, Java, Python, and R, and an optimized engine that\n",
      "supports general computation graphs for data analysis. It also supports a\n",
      "rich set of higher-level tools including Spark SQL for SQL and DataFrames,\n"
     ]
    }
   ],
   "source": [
    "#1c\n",
    "first_six_lines = readme.take(6)\n",
    "for line in first_six_lines:\n",
    "    print(line)\n"
   ]
  },
  {
   "cell_type": "code",
   "execution_count": 9,
   "metadata": {},
   "outputs": [
    {
     "name": "stdout",
     "output_type": "stream",
     "text": [
      "building for particular Hive and Hive Thriftserver distributions.\n",
      "\n",
      "This README file only contains basic setup instructions.\n",
      "## Example Programs\n",
      "\n"
     ]
    }
   ],
   "source": [
    "#1d\n",
    "random_lines = readme.takeSample(False, 5, 123)\n",
    "for line in random_lines:\n",
    "    print(line)\n"
   ]
  },
  {
   "cell_type": "code",
   "execution_count": 10,
   "metadata": {},
   "outputs": [
    {
     "name": "stdout",
     "output_type": "stream",
     "text": [
      "Number of lines: 104\n"
     ]
    }
   ],
   "source": [
    "#1e\n",
    "num_lines = readme.count()\n",
    "print(f\"Number of lines: {num_lines}\")\n"
   ]
  },
  {
   "cell_type": "markdown",
   "metadata": {},
   "source": [
    "### 2. Use map to change all letters to lowercase\n",
    "\n",
    "**2.a** Define a function and call it in map\n",
    "\n",
    "**2.b** Use a lambda function"
   ]
  },
  {
   "cell_type": "code",
   "execution_count": 11,
   "metadata": {},
   "outputs": [],
   "source": [
    "#2a\n",
    "def convert_to_uppercase(name):\n",
    "    return name.upper()\n",
    "uppercase_readme = readme.map(convert_to_uppercase)\n"
   ]
  },
  {
   "cell_type": "code",
   "execution_count": 13,
   "metadata": {},
   "outputs": [],
   "source": [
    "#2b \n",
    "uppercase_readme = readme.map(lambda x: convert_to_uppercase(x))"
   ]
  },
  {
   "cell_type": "markdown",
   "metadata": {},
   "source": [
    "### 3. Filter content\n",
    "\n",
    "**3.a** Remove all empty lines.\n",
    "\n",
    "**3.b** Remove all Headings of level 2. Use filter and lambda. <br>In Markdown all headings level two begin with two number signs (#) and a blank space. \n"
   ]
  },
  {
   "cell_type": "code",
   "execution_count": 14,
   "metadata": {},
   "outputs": [],
   "source": [
    "#3a\n",
    "non_empty_readme = readme.filter(lambda line: line.strip() != \"\")"
   ]
  },
  {
   "cell_type": "code",
   "execution_count": 16,
   "metadata": {},
   "outputs": [
    {
     "name": "stdout",
     "output_type": "stream",
     "text": [
      "# Apache Spark\n",
      "Spark is a fast and general cluster computing system for Big Data. It provides\n",
      "high-level APIs in Scala, Java, Python, and R, and an optimized engine that\n",
      "supports general computation graphs for data analysis. It also supports a\n",
      "rich set of higher-level tools including Spark SQL for SQL and DataFrames,\n",
      "MLlib for machine learning, GraphX for graph processing,\n",
      "and Spark Streaming for stream processing.\n",
      "<http://spark.apache.org/>\n",
      "## Online Documentation\n",
      "You can find the latest Spark documentation, including a programming\n"
     ]
    }
   ],
   "source": [
    "\n",
    "for line in non_empty_readme.take(10):\n",
    "    print(line)"
   ]
  },
  {
   "cell_type": "code",
   "execution_count": 17,
   "metadata": {},
   "outputs": [],
   "source": [
    "#3b\n",
    "filtered_readme = readme.filter(lambda line: not line.strip().startswith(\"## \"))\n"
   ]
  },
  {
   "cell_type": "code",
   "execution_count": 18,
   "metadata": {},
   "outputs": [
    {
     "name": "stdout",
     "output_type": "stream",
     "text": [
      "# Apache Spark\n",
      "\n",
      "Spark is a fast and general cluster computing system for Big Data. It provides\n",
      "high-level APIs in Scala, Java, Python, and R, and an optimized engine that\n",
      "supports general computation graphs for data analysis. It also supports a\n",
      "rich set of higher-level tools including Spark SQL for SQL and DataFrames,\n",
      "MLlib for machine learning, GraphX for graph processing,\n",
      "and Spark Streaming for stream processing.\n",
      "\n",
      "<http://spark.apache.org/>\n"
     ]
    }
   ],
   "source": [
    "for line in filtered_readme.take(10):\n",
    "    print(line)"
   ]
  },
  {
   "cell_type": "markdown",
   "metadata": {},
   "source": [
    "### 4. Working with key-value pairs\n",
    "\n",
    "**4.a** Create a new RDD containing key-value pairs by mapping every string of the non filtered readme with a value of 1.\n",
    "\n",
    "**4.b** Count how many empty lines are in the document. Ouput only the number of empty lines, no other information. <br>"
   ]
  },
  {
   "cell_type": "code",
   "execution_count": 20,
   "metadata": {},
   "outputs": [],
   "source": [
    "#4a\n",
    "key_value_rdd = readme.map(lambda line: (line, 1))\n"
   ]
  },
  {
   "cell_type": "code",
   "execution_count": 21,
   "metadata": {},
   "outputs": [
    {
     "name": "stdout",
     "output_type": "stream",
     "text": [
      "('# Apache Spark', 1)\n",
      "('', 1)\n",
      "('Spark is a fast and general cluster computing system for Big Data. It provides', 1)\n",
      "('high-level APIs in Scala, Java, Python, and R, and an optimized engine that', 1)\n",
      "('supports general computation graphs for data analysis. It also supports a', 1)\n"
     ]
    }
   ],
   "source": [
    "for pair in key_value_rdd.take(5):\n",
    "    print(pair)"
   ]
  },
  {
   "cell_type": "code",
   "execution_count": 22,
   "metadata": {},
   "outputs": [
    {
     "data": {
      "text/plain": [
       "40"
      ]
     },
     "execution_count": 22,
     "metadata": {},
     "output_type": "execute_result"
    }
   ],
   "source": [
    "#4b\n",
    "readme.filter(lambda line: line.strip() == \"\").count()"
   ]
  },
  {
   "cell_type": "code",
   "execution_count": 23,
   "metadata": {},
   "outputs": [],
   "source": [
    "sc.stop()"
   ]
  },
  {
   "cell_type": "code",
   "execution_count": null,
   "metadata": {},
   "outputs": [],
   "source": []
  }
 ],
 "metadata": {
  "kernelspec": {
   "display_name": "Python 3 (ipykernel)",
   "language": "python",
   "name": "python3"
  },
  "language_info": {
   "codemirror_mode": {
    "name": "ipython",
    "version": 3
   },
   "file_extension": ".py",
   "mimetype": "text/x-python",
   "name": "python",
   "nbconvert_exporter": "python",
   "pygments_lexer": "ipython3",
   "version": "3.12.7"
  }
 },
 "nbformat": 4,
 "nbformat_minor": 4
}
